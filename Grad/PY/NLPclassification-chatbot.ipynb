{
 "cells": [
  {
   "cell_type": "markdown",
   "metadata": {},
   "source": [
    "# Text classification for chat bot API."
   ]
  },
  {
   "cell_type": "markdown",
   "metadata": {},
   "source": [
    "Create a Chatbot API for leave enquiry system using  Decision Tree Classifier and Navie Bayes Classifier "
   ]
  },
  {
   "cell_type": "markdown",
   "metadata": {},
   "source": [
    "## Import useful libraries"
   ]
  },
  {
   "cell_type": "code",
   "execution_count": 1,
   "metadata": {},
   "outputs": [],
   "source": [
    "import nltk\n",
    "import re\n",
    "import os\n",
    "import csv\n",
    "from nltk.stem.snowball import SnowballStemmer\n",
    "import random\n",
    "from nltk.classify import SklearnClassifier\n",
    "from nltk.tokenize import RegexpTokenizer\n",
    "from nltk.corpus import stopwords\n",
    "from nltk.stem.wordnet import WordNetLemmatizer\n",
    "import numpy as np\n",
    "import pandas as pd\n",
    "from pathlib import Path"
   ]
  },
  {
   "cell_type": "code",
   "execution_count": 2,
   "metadata": {},
   "outputs": [],
   "source": [
    "## Get multiple outputs in the same cell\n",
    "from IPython.core.interactiveshell import InteractiveShell\n",
    "InteractiveShell.ast_node_interactivity = \"all\"\n",
    "\n",
    "## Ignore all warnings\n",
    "import warnings\n",
    "warnings.filterwarnings('ignore')\n",
    "warnings.filterwarnings(action='ignore', category=DeprecationWarning)"
   ]
  },
  {
   "cell_type": "code",
   "execution_count": 3,
   "metadata": {},
   "outputs": [],
   "source": [
    "## Display all rows and columns of a dataframe instead of a truncated version\n",
    "from IPython.display import display\n",
    "pd.set_option('display.max_columns', None)\n",
    "pd.set_option('display.max_rows', None)"
   ]
  },
  {
   "cell_type": "markdown",
   "metadata": {},
   "source": [
    "## Preprocess"
   ]
  },
  {
   "cell_type": "markdown",
   "metadata": {},
   "source": [
    "#### Preprocess the sentence to convert it into lower case, tokenize and remove stop words"
   ]
  },
  {
   "cell_type": "code",
   "execution_count": 4,
   "metadata": {},
   "outputs": [],
   "source": [
    "def preprocess(sentence):\n",
    "    sentence = sentence.lower() #Convert the sentences into lowercase\n",
    "    tokenizer = RegexpTokenizer(r'\\w+') #Tokenize on word charcter\n",
    "    tokens = tokenizer.tokenize(sentence)\n",
    "    filtered_words = [w for w in tokens if not w in stopwords.words('english')] # remove stopwords\n",
    "    return filtered_words"
   ]
  },
  {
   "cell_type": "code",
   "execution_count": 5,
   "metadata": {},
   "outputs": [],
   "source": [
    "sentence = \"The Big brown fox jumped over a lazy dog.\"\n",
    "sentence2 = \"This is particularly important in today's world where we are swamped with unstructured natural language data on the variety of social media platforms people engage in now-a-days (note -  now-a-days in the decade of 2010-2020)\""
   ]
  },
  {
   "cell_type": "code",
   "execution_count": 6,
   "metadata": {},
   "outputs": [
    {
     "name": "stdout",
     "output_type": "stream",
     "text": [
      "['big', 'brown', 'fox', 'jumped', 'lazy', 'dog']\n"
     ]
    }
   ],
   "source": [
    "preprocessed_sentence = preprocess(sentence)\n",
    "print(preprocessed_sentence)"
   ]
  },
  {
   "cell_type": "code",
   "execution_count": 7,
   "metadata": {},
   "outputs": [
    {
     "data": {
      "text/plain": [
       "['particularly',\n",
       " 'important',\n",
       " 'today',\n",
       " 'world',\n",
       " 'swamped',\n",
       " 'unstructured',\n",
       " 'natural',\n",
       " 'language',\n",
       " 'data',\n",
       " 'variety',\n",
       " 'social',\n",
       " 'media',\n",
       " 'platforms',\n",
       " 'people',\n",
       " 'engage',\n",
       " 'days',\n",
       " 'note',\n",
       " 'days',\n",
       " 'decade',\n",
       " '2010',\n",
       " '2020']"
      ]
     },
     "execution_count": 7,
     "metadata": {},
     "output_type": "execute_result"
    }
   ],
   "source": [
    "preprocess(sentence2)"
   ]
  },
  {
   "cell_type": "markdown",
   "metadata": {},
   "source": [
    "## Tagging"
   ]
  },
  {
   "cell_type": "markdown",
   "metadata": {},
   "source": [
    "#### Assign part of speech(pos) to words."
   ]
  },
  {
   "cell_type": "raw",
   "metadata": {},
   "source": [
    "POS tag list:\n",
    "\n",
    "CC coordinating conjunction\n",
    "CD cardinal digit\n",
    "DT determiner\n",
    "EX existential there (like: \"there is\" ... think of it like \"there exists\")\n",
    "FW foreign word\n",
    "IN preposition/subordinating conjunction\n",
    "JJ adjective 'big'\n",
    "JJR adjective, comparative 'bigger'\n",
    "JJS adjective, superlative 'biggest'\n",
    "LS list marker 1)\n",
    "MD modal could, will\n",
    "NN noun, singular 'desk'\n",
    "NNS noun plural 'desks'\n",
    "NNP proper noun, singular 'Harrison'\n",
    "NNPS proper noun, plural 'Americans'\n",
    "PDT predeterminer 'all the kids'\n",
    "POS possessive ending parent's\n",
    "PRP personal pronoun I, he, she\n",
    "PRP$ possessive pronoun my, his, hers\n",
    "RB adverb very, silently,\n",
    "RBR adverb, comparative better\n",
    "RBS adverb, superlative best\n",
    "RP particle give up\n",
    "TO to go 'to' the store.\n",
    "UH interjection errrrrrrrm\n",
    "VB verb, base form take\n",
    "VBD verb, past tense took\n",
    "VBG verb, gerund/present participle taking\n",
    "VBN verb, past participle taken\n",
    "VBP verb, sing. present, non-3d take\n",
    "VBZ verb, 3rd person sing. present takes\n",
    "WDT wh-determiner which\n",
    "WP wh-pronoun who, what\n",
    "WP$ possessive wh-pronoun whose\n",
    "WRB wh-abverb where, when"
   ]
  },
  {
   "cell_type": "code",
   "execution_count": 8,
   "metadata": {},
   "outputs": [
    {
     "name": "stdout",
     "output_type": "stream",
     "text": [
      "[('big', 'JJ'), ('brown', 'NN'), ('fox', 'NN'), ('jumped', 'VBD'), ('lazy', 'JJ'), ('dog', 'NN')]\n"
     ]
    }
   ],
   "source": [
    "tags = nltk.pos_tag(preprocessed_sentence)\n",
    "print(tags)"
   ]
  },
  {
   "cell_type": "code",
   "execution_count": 9,
   "metadata": {},
   "outputs": [
    {
     "name": "stdout",
     "output_type": "stream",
     "text": [
      "[('particularly', 'RB'), ('important', 'JJ'), ('today', 'NN'), ('world', 'NN'), ('swamped', 'VBD'), ('unstructured', 'JJ'), ('natural', 'JJ'), ('language', 'NN'), ('data', 'NNS'), ('variety', 'NN'), ('social', 'JJ'), ('media', 'NNS'), ('platforms', 'NNS'), ('people', 'NNS'), ('engage', 'VBP'), ('days', 'NNS'), ('note', 'VBP'), ('days', 'NNS'), ('decade', 'NN'), ('2010', 'CD'), ('2020', 'CD')]\n"
     ]
    }
   ],
   "source": [
    "tags2 = nltk.pos_tag(preprocess(sentence2))\n",
    "print(tags2)"
   ]
  },
  {
   "cell_type": "markdown",
   "metadata": {},
   "source": [
    "## Extract only noun and verb"
   ]
  },
  {
   "cell_type": "code",
   "execution_count": 11,
   "metadata": {},
   "outputs": [],
   "source": [
    "def extract_tagged(sentences):\n",
    "    features = []\n",
    "    for tagged_word in sentences:\n",
    "        word, tag = tagged_word\n",
    "        if tag=='NN' or tag == 'VBN' or tag == 'NNS' or tag == 'VBP' or tag == 'RB' or tag == 'VBZ' or tag == 'VBG' or tag =='PRP' or tag == 'JJ':\n",
    "            features.append(word)\n",
    "    return features"
   ]
  },
  {
   "cell_type": "code",
   "execution_count": 12,
   "metadata": {},
   "outputs": [
    {
     "data": {
      "text/plain": [
       "['particularly',\n",
       " 'important',\n",
       " 'today',\n",
       " 'world',\n",
       " 'unstructured',\n",
       " 'natural',\n",
       " 'language',\n",
       " 'data',\n",
       " 'variety',\n",
       " 'social',\n",
       " 'media',\n",
       " 'platforms',\n",
       " 'people',\n",
       " 'engage',\n",
       " 'days',\n",
       " 'note',\n",
       " 'days',\n",
       " 'decade']"
      ]
     },
     "execution_count": 12,
     "metadata": {},
     "output_type": "execute_result"
    }
   ],
   "source": [
    "extract_tagged(tags2)"
   ]
  },
  {
   "cell_type": "markdown",
   "metadata": {},
   "source": [
    "## Lemmatize and Stem words in sentence"
   ]
  },
  {
   "cell_type": "code",
   "execution_count": 13,
   "metadata": {},
   "outputs": [],
   "source": [
    "stemmer = SnowballStemmer(\"english\")\n",
    "lmtzr = WordNetLemmatizer()\n",
    "def extract_feature(text):\n",
    "    words = preprocess(text)\n",
    "    print('words: ',words)\n",
    "    tags = nltk.pos_tag(words)\n",
    "    print('tags: ',tags)\n",
    "    extracted_features = extract_tagged(tags)\n",
    "    print('Extracted features: ',extracted_features)\n",
    "    stemmed_words = [stemmer.stem(x) for x in extracted_features]\n",
    "    print(stemmed_words)\n",
    "    result = [lmtzr.lemmatize(x) for x in stemmed_words]\n",
    "   \n",
    "    return result"
   ]
  },
  {
   "cell_type": "code",
   "execution_count": 14,
   "metadata": {},
   "outputs": [
    {
     "data": {
      "text/plain": [
       "'The Big brown fox jumped over a lazy dog.'"
      ]
     },
     "execution_count": 14,
     "metadata": {},
     "output_type": "execute_result"
    }
   ],
   "source": [
    "sentence"
   ]
  },
  {
   "cell_type": "code",
   "execution_count": 15,
   "metadata": {},
   "outputs": [
    {
     "name": "stdout",
     "output_type": "stream",
     "text": [
      "words:  ['big', 'brown', 'fox', 'jumped', 'lazy', 'dog']\n",
      "tags:  [('big', 'JJ'), ('brown', 'NN'), ('fox', 'NN'), ('jumped', 'VBD'), ('lazy', 'JJ'), ('dog', 'NN')]\n",
      "Extracted features:  ['big', 'brown', 'fox', 'lazy', 'dog']\n",
      "['big', 'brown', 'fox', 'lazi', 'dog']\n",
      "['big', 'brown', 'fox', 'lazi', 'dog']\n"
     ]
    }
   ],
   "source": [
    "words = extract_feature(sentence)\n",
    "print(words)"
   ]
  },
  {
   "cell_type": "code",
   "execution_count": 16,
   "metadata": {},
   "outputs": [
    {
     "name": "stdout",
     "output_type": "stream",
     "text": [
      "words:  ['particularly', 'important', 'today', 'world', 'swamped', 'unstructured', 'natural', 'language', 'data', 'variety', 'social', 'media', 'platforms', 'people', 'engage', 'days', 'note', 'days', 'decade', '2010', '2020']\n",
      "tags:  [('particularly', 'RB'), ('important', 'JJ'), ('today', 'NN'), ('world', 'NN'), ('swamped', 'VBD'), ('unstructured', 'JJ'), ('natural', 'JJ'), ('language', 'NN'), ('data', 'NNS'), ('variety', 'NN'), ('social', 'JJ'), ('media', 'NNS'), ('platforms', 'NNS'), ('people', 'NNS'), ('engage', 'VBP'), ('days', 'NNS'), ('note', 'VBP'), ('days', 'NNS'), ('decade', 'NN'), ('2010', 'CD'), ('2020', 'CD')]\n",
      "Extracted features:  ['particularly', 'important', 'today', 'world', 'unstructured', 'natural', 'language', 'data', 'variety', 'social', 'media', 'platforms', 'people', 'engage', 'days', 'note', 'days', 'decade']\n",
      "['particular', 'import', 'today', 'world', 'unstructur', 'natur', 'languag', 'data', 'varieti', 'social', 'media', 'platform', 'peopl', 'engag', 'day', 'note', 'day', 'decad']\n",
      "['particular', 'import', 'today', 'world', 'unstructur', 'natur', 'languag', 'data', 'varieti', 'social', 'medium', 'platform', 'peopl', 'engag', 'day', 'note', 'day', 'decad']\n"
     ]
    }
   ],
   "source": [
    "words = extract_feature(sentence2)\n",
    "print(words)"
   ]
  },
  {
   "cell_type": "code",
   "execution_count": 17,
   "metadata": {},
   "outputs": [
    {
     "name": "stdout",
     "output_type": "stream",
     "text": [
      "words:  ['hurt', 'right', 'foot', 'wearing', 'white', 'shoes', 'feet']\n",
      "tags:  [('hurt', 'NN'), ('right', 'JJ'), ('foot', 'NN'), ('wearing', 'VBG'), ('white', 'JJ'), ('shoes', 'NNS'), ('feet', 'NNS')]\n",
      "Extracted features:  ['hurt', 'right', 'foot', 'wearing', 'white', 'shoes', 'feet']\n",
      "['hurt', 'right', 'foot', 'wear', 'white', 'shoe', 'feet']\n"
     ]
    },
    {
     "data": {
      "text/plain": [
       "['hurt', 'right', 'foot', 'wear', 'white', 'shoe', 'foot']"
      ]
     },
     "execution_count": 17,
     "metadata": {},
     "output_type": "execute_result"
    }
   ],
   "source": [
    "extract_feature(\"He hurt his right foot while he was wearing white shoes on his feet\")"
   ]
  },
  {
   "cell_type": "markdown",
   "metadata": {},
   "source": [
    "## Implementing bag of words"
   ]
  },
  {
   "cell_type": "markdown",
   "metadata": {},
   "source": [
    "In simple terms, it’s a collection of words to represent a sentence, disregarding the order in which they appear."
   ]
  },
  {
   "cell_type": "code",
   "execution_count": 18,
   "metadata": {},
   "outputs": [],
   "source": [
    "def word_feats(words):\n",
    "    return dict([(word, True) for word in words])"
   ]
  },
  {
   "cell_type": "code",
   "execution_count": 19,
   "metadata": {},
   "outputs": [
    {
     "data": {
      "text/plain": [
       "{'particular': True,\n",
       " 'import': True,\n",
       " 'today': True,\n",
       " 'world': True,\n",
       " 'unstructur': True,\n",
       " 'natur': True,\n",
       " 'languag': True,\n",
       " 'data': True,\n",
       " 'varieti': True,\n",
       " 'social': True,\n",
       " 'medium': True,\n",
       " 'platform': True,\n",
       " 'peopl': True,\n",
       " 'engag': True,\n",
       " 'day': True,\n",
       " 'note': True,\n",
       " 'decad': True}"
      ]
     },
     "execution_count": 19,
     "metadata": {},
     "output_type": "execute_result"
    }
   ],
   "source": [
    "word_feats(words)"
   ]
  },
  {
   "cell_type": "markdown",
   "metadata": {},
   "source": [
    "## Parsing the whole document"
   ]
  },
  {
   "cell_type": "code",
   "execution_count": 20,
   "metadata": {},
   "outputs": [],
   "source": [
    "def extract_feature_from_doc(data):\n",
    "    result = []\n",
    "    corpus = []\n",
    "    # The responses of the chat bot\n",
    "    answers = {}\n",
    "    for (text,category,answer) in data:\n",
    "\n",
    "        features = extract_feature(text)\n",
    "\n",
    "        corpus.append(features)\n",
    "        result.append((word_feats(features), category))\n",
    "        answers[category] = answer\n",
    "\n",
    "    return (result, sum(corpus,[]), answers)"
   ]
  },
  {
   "cell_type": "code",
   "execution_count": 21,
   "metadata": {},
   "outputs": [
    {
     "name": "stdout",
     "output_type": "stream",
     "text": [
      "words:  ['input', 'text', 'user']\n",
      "tags:  [('input', 'NN'), ('text', 'IN'), ('user', 'NN')]\n",
      "Extracted features:  ['input', 'user']\n",
      "['input', 'user']\n"
     ]
    },
    {
     "data": {
      "text/plain": [
       "([({'input': True, 'user': True}, 'category')],\n",
       " ['input', 'user'],\n",
       " {'category': 'answer to give'})"
      ]
     },
     "execution_count": 21,
     "metadata": {},
     "output_type": "execute_result"
    }
   ],
   "source": [
    "extract_feature_from_doc([['this is the input text from the user','category','answer to give']])"
   ]
  },
  {
   "cell_type": "code",
   "execution_count": 41,
   "metadata": {},
   "outputs": [],
   "source": [
    "def get_content(filename):\n",
    "    doc = os.path.join(filename)\n",
    "    with open(doc, 'r') as content_file:\n",
    "        lines = csv.reader(content_file,delimiter='|')\n",
    "        data = [x for x in lines ]\n",
    "        return data"
   ]
  },
  {
   "cell_type": "code",
   "execution_count": 37,
   "metadata": {},
   "outputs": [],
   "source": [
    "p = Path(r'E:/MSA/Fall 2023/Big Data/GP/Health-Care-Chat-Bot-using-Decision-Tree-algorithm-main/data.txt')"
   ]
  },
  {
   "cell_type": "code",
   "execution_count": 42,
   "metadata": {},
   "outputs": [],
   "source": [
    "filename = p\n",
    "data = get_content(filename)"
   ]
  },
  {
   "cell_type": "code",
   "execution_count": 43,
   "metadata": {},
   "outputs": [
    {
     "data": {
      "text/plain": [
       "[['symptomA\\tsymptomB\\tsymptomC\\tproblem'],\n",
       " ['High engine temperature\\tHot weather\\tlow coolant level warning light is on\\tLack of coolant'],\n",
       " ['High engine temperature\\tHot weather\\tno low coolant level warning light is on\\tThe cooling system is clogged - it needs to be cleaned'],\n",
       " ['High engine temperature\\tAfter a long drive\\tThe air conditioner is on most of the time\\tcheck the ventilation unit'],\n",
       " ['High engine temperature\\tAfter a long drive\\tAir conditioner is off most of the time\\tThe alternator belt may be slipping or the fan clutch may be damaged'],\n",
       " ['Car exhaust smoke\\tblack smoke\\tThe smoke comes out of the exhaust while driving\\tCheck if the air filter is clean. If so then check the fuel injection sensor'],\n",
       " ['Car exhaust smoke\\tblack smoke\\tThe smoke comes out of the exhaust when starting and then stops\\tThe engine sensor may be faulty'],\n",
       " ['Car exhaust smoke\\twhite smoke\\tThe smoke comes out of the exhaust while driving even after the engine has warmed up\\tA new head gasket may be needed'],\n",
       " ['Car exhaust smoke\\twhite smoke\\tThe smoke comes out of the exhaust while driving and stops after the engine has warmed up\\tThis is a normal situation'],\n",
       " ['Car exhaust smoke\\twhite smoke\\tcold weather\\tThis is a normal situation'],\n",
       " ['Car exhaust smoke\\twhite smoke\\tThe smoke comes out during startup and then stops\\tThe engine sensor may be damaged'],\n",
       " ['The car shakes\\tThe whole car shakes\\tIt happens while braking\\tMatching problem between the brake pads and the front discs'],\n",
       " ['The car shakes\\tThe whole car shakes\\tIt happens during acceleration\\tCheck for a vacuum leak or moisture in the distributor cap (distributor)'],\n",
       " ['The car shakes\\tThe whole car shakes\\tIt happens while driving at a certain speed\\tCheck the balance of the four wheels'],\n",
       " ['The car shakes\\tThe brake pedal is shaking\\tThe braking also has vibrations from the front\\tMatching problem between the brake pads and the front discs'],\n",
       " ['The car shakes\\tThe brake pedal is shaking\\tIt only happens under heavy braking and there is no vibration from the front end\\tThis is a normal situation. The anti lock system pulsates the brakes'],\n",
       " ['The car shakes\\tThe steering wheel shakes\\tIt happens while braking\\tMatching problem between the brake pads and the front discs']]"
      ]
     },
     "execution_count": 43,
     "metadata": {},
     "output_type": "execute_result"
    }
   ],
   "source": [
    "data"
   ]
  },
  {
   "cell_type": "code",
   "execution_count": 44,
   "metadata": {},
   "outputs": [
    {
     "ename": "ValueError",
     "evalue": "not enough values to unpack (expected 3, got 1)",
     "output_type": "error",
     "traceback": [
      "\u001b[1;31m---------------------------------------------------------------------------\u001b[0m",
      "\u001b[1;31mValueError\u001b[0m                                Traceback (most recent call last)",
      "Cell \u001b[1;32mIn[44], line 1\u001b[0m\n\u001b[1;32m----> 1\u001b[0m features_data, corpus, answers \u001b[39m=\u001b[39m extract_feature_from_doc(data)\n",
      "Cell \u001b[1;32mIn[20], line 6\u001b[0m, in \u001b[0;36mextract_feature_from_doc\u001b[1;34m(data)\u001b[0m\n\u001b[0;32m      4\u001b[0m \u001b[39m# The responses of the chat bot\u001b[39;00m\n\u001b[0;32m      5\u001b[0m answers \u001b[39m=\u001b[39m {}\n\u001b[1;32m----> 6\u001b[0m \u001b[39mfor\u001b[39;00m (text,category,answer) \u001b[39min\u001b[39;00m data:\n\u001b[0;32m      8\u001b[0m     features \u001b[39m=\u001b[39m extract_feature(text)\n\u001b[0;32m     10\u001b[0m     corpus\u001b[39m.\u001b[39mappend(features)\n",
      "\u001b[1;31mValueError\u001b[0m: not enough values to unpack (expected 3, got 1)"
     ]
    }
   ],
   "source": [
    "features_data, corpus, answers = extract_feature_from_doc(data)"
   ]
  },
  {
   "cell_type": "code",
   "execution_count": 30,
   "metadata": {},
   "outputs": [
    {
     "name": "stdout",
     "output_type": "stream",
     "text": [
      "({'annual': True, 'leav': True, 'balanc': True}, 'Balance-Annual-Leaves')\n"
     ]
    }
   ],
   "source": [
    "print(features_data[100])"
   ]
  },
  {
   "cell_type": "code",
   "execution_count": 31,
   "metadata": {},
   "outputs": [
    {
     "data": {
      "text/plain": [
       "['hello',\n",
       " 'hi',\n",
       " 'hello',\n",
       " 'hi',\n",
       " 'hi',\n",
       " 'hi',\n",
       " 'hey',\n",
       " 'hello',\n",
       " 'hi',\n",
       " 'hey',\n",
       " 'hey',\n",
       " 'hi',\n",
       " 'hey',\n",
       " 'hello',\n",
       " 'good',\n",
       " 'morn',\n",
       " 'good',\n",
       " 'afternoon',\n",
       " 'good',\n",
       " 'even',\n",
       " 'good',\n",
       " 'night',\n",
       " 'today',\n",
       " 'want',\n",
       " 'help',\n",
       " 'need',\n",
       " 'help',\n",
       " 'help',\n",
       " 'want',\n",
       " 'help',\n",
       " 'want',\n",
       " 'assist',\n",
       " 'help',\n",
       " 'great',\n",
       " 'talk',\n",
       " 'great',\n",
       " 'thank',\n",
       " 'help',\n",
       " 'thank',\n",
       " 'thank',\n",
       " 'much',\n",
       " 'thank',\n",
       " 'thank',\n",
       " 'much',\n",
       " 'mani',\n",
       " 'type',\n",
       " 'leav',\n",
       " 'type',\n",
       " 'leav',\n",
       " 'type',\n",
       " 'leav',\n",
       " 'type',\n",
       " 'leav',\n",
       " 'type',\n",
       " 'mani',\n",
       " 'leav',\n",
       " 'taken',\n",
       " 'mani',\n",
       " 'leav',\n",
       " 'alreadi',\n",
       " 'taken',\n",
       " 'mani',\n",
       " 'annual',\n",
       " 'leav',\n",
       " 'mani',\n",
       " 'annual',\n",
       " 'leav',\n",
       " 'taken',\n",
       " 'mani',\n",
       " 'annual',\n",
       " 'leav',\n",
       " 'alreadi',\n",
       " 'taken',\n",
       " 'annual',\n",
       " 'leav',\n",
       " 'count',\n",
       " 'taken',\n",
       " 'mani',\n",
       " 'annual',\n",
       " 'leav',\n",
       " 'taken',\n",
       " 'number',\n",
       " 'annual',\n",
       " 'leav',\n",
       " 'taken',\n",
       " 'annual',\n",
       " 'leav',\n",
       " 'taken',\n",
       " 'number',\n",
       " 'annual',\n",
       " 'leav',\n",
       " 'alreadi',\n",
       " 'taken',\n",
       " 'annual',\n",
       " 'leav',\n",
       " 'taken',\n",
       " 'annual',\n",
       " 'leav',\n",
       " 'alreadi',\n",
       " 'taken',\n",
       " 'number',\n",
       " 'annual',\n",
       " 'leav',\n",
       " 'taken',\n",
       " 'number',\n",
       " 'annual',\n",
       " 'leav',\n",
       " 'taken',\n",
       " 'annual',\n",
       " 'leav',\n",
       " 'annual',\n",
       " 'leav',\n",
       " 'mani',\n",
       " 'option',\n",
       " 'leav',\n",
       " 'taken',\n",
       " 'mani',\n",
       " 'option',\n",
       " 'leav',\n",
       " 'option',\n",
       " 'leav',\n",
       " 'taken',\n",
       " 'number',\n",
       " 'option',\n",
       " 'leav',\n",
       " 'taken',\n",
       " 'option',\n",
       " 'leav',\n",
       " 'count',\n",
       " 'taken',\n",
       " 'number',\n",
       " 'option',\n",
       " 'leav',\n",
       " 'taken',\n",
       " 'number',\n",
       " 'option',\n",
       " 'leav',\n",
       " 'taken',\n",
       " 'number',\n",
       " 'option',\n",
       " 'leav',\n",
       " 'taken',\n",
       " 'mani',\n",
       " 'option',\n",
       " 'leav',\n",
       " 'taken',\n",
       " 'number',\n",
       " 'option',\n",
       " 'leav',\n",
       " 'taken',\n",
       " 'number',\n",
       " 'option',\n",
       " 'leav',\n",
       " 'alreadi',\n",
       " 'taken',\n",
       " 'option',\n",
       " 'leav',\n",
       " 'taken',\n",
       " 'option',\n",
       " 'leav',\n",
       " 'alreadi',\n",
       " 'taken',\n",
       " 'number',\n",
       " 'option',\n",
       " 'leav',\n",
       " 'number',\n",
       " 'option',\n",
       " 'leav',\n",
       " 'option',\n",
       " 'leav',\n",
       " 'count',\n",
       " 'use',\n",
       " 'option',\n",
       " 'leav',\n",
       " 'count',\n",
       " 'use',\n",
       " 'option',\n",
       " 'leav',\n",
       " 'count',\n",
       " 'use',\n",
       " 'option',\n",
       " 'leav',\n",
       " 'count',\n",
       " 'use',\n",
       " 'option',\n",
       " 'leav',\n",
       " 'count',\n",
       " 'taken',\n",
       " 'option',\n",
       " 'leav',\n",
       " 'count',\n",
       " 'taken',\n",
       " 'option',\n",
       " 'leav',\n",
       " 'count',\n",
       " 'taken',\n",
       " 'mani',\n",
       " 'option',\n",
       " 'leav',\n",
       " 'mani',\n",
       " 'option',\n",
       " 'leav',\n",
       " 'number',\n",
       " 'option',\n",
       " 'leav',\n",
       " 'option',\n",
       " 'leav',\n",
       " 'mani',\n",
       " 'leav',\n",
       " 'mani',\n",
       " 'leav',\n",
       " 'take',\n",
       " 'mani',\n",
       " 'leav',\n",
       " 'remain',\n",
       " 'remain',\n",
       " 'leav',\n",
       " 'leav',\n",
       " 'tell',\n",
       " 'leav',\n",
       " 'balanc',\n",
       " 'remain',\n",
       " 'leav',\n",
       " 'leav',\n",
       " 'balanc',\n",
       " 'leav',\n",
       " 'pend',\n",
       " 'annual',\n",
       " 'leav',\n",
       " 'count',\n",
       " 'remain',\n",
       " 'mani',\n",
       " 'annual',\n",
       " 'leav',\n",
       " 'annual',\n",
       " 'leav',\n",
       " 'annual',\n",
       " 'leav',\n",
       " 'balanc',\n",
       " 'annual',\n",
       " 'leav',\n",
       " 'mani',\n",
       " 'annual',\n",
       " 'leav',\n",
       " 'remain',\n",
       " 'annual',\n",
       " 'leav',\n",
       " 'remain',\n",
       " 'remain',\n",
       " 'annual',\n",
       " 'leav',\n",
       " 'annual',\n",
       " 'leav',\n",
       " 'remain',\n",
       " 'number',\n",
       " 'annual',\n",
       " 'leav',\n",
       " 'remain',\n",
       " 'number',\n",
       " 'annual',\n",
       " 'leav',\n",
       " 'annual',\n",
       " 'leav',\n",
       " 'remain',\n",
       " 'annual',\n",
       " 'leav',\n",
       " 'count',\n",
       " 'remain',\n",
       " 'annual',\n",
       " 'leav',\n",
       " 'count',\n",
       " 'remain',\n",
       " 'annual',\n",
       " 'leav',\n",
       " 'count',\n",
       " 'remain',\n",
       " 'annual',\n",
       " 'leav',\n",
       " 'count',\n",
       " 'remain',\n",
       " 'annual',\n",
       " 'leav',\n",
       " 'balanc',\n",
       " 'annual',\n",
       " 'leav',\n",
       " 'balanc',\n",
       " 'annual',\n",
       " 'leav',\n",
       " 'number',\n",
       " 'annual',\n",
       " 'leav',\n",
       " 'remain',\n",
       " 'number',\n",
       " 'annual',\n",
       " 'leav',\n",
       " 'remain',\n",
       " 'mani',\n",
       " 'option',\n",
       " 'leav',\n",
       " 'remain',\n",
       " 'option',\n",
       " 'leav',\n",
       " 'remain',\n",
       " 'number',\n",
       " 'option',\n",
       " 'leav',\n",
       " 'remain',\n",
       " 'mani',\n",
       " 'option',\n",
       " 'leav',\n",
       " 'mani',\n",
       " 'option',\n",
       " 'leav',\n",
       " 'option',\n",
       " 'leav',\n",
       " 'balanc',\n",
       " 'option',\n",
       " 'leav',\n",
       " 'mani',\n",
       " 'option',\n",
       " 'leav',\n",
       " 'take',\n",
       " 'option',\n",
       " 'leav',\n",
       " 'take',\n",
       " 'mani',\n",
       " 'option',\n",
       " 'leav',\n",
       " 'option',\n",
       " 'leav',\n",
       " 'balanc',\n",
       " 'option',\n",
       " 'leav',\n",
       " 'count',\n",
       " 'remain',\n",
       " 'option',\n",
       " 'leav',\n",
       " 'option',\n",
       " 'leav',\n",
       " 'option',\n",
       " 'leav',\n",
       " 'balanc',\n",
       " 'option',\n",
       " 'option',\n",
       " 'leav',\n",
       " 'count',\n",
       " 'remain',\n",
       " 'option',\n",
       " 'leav',\n",
       " 'count',\n",
       " 'remain',\n",
       " 'option',\n",
       " 'leav',\n",
       " 'count',\n",
       " 'remain',\n",
       " 'number',\n",
       " 'option',\n",
       " 'leav',\n",
       " 'remain',\n",
       " 'number',\n",
       " 'option',\n",
       " 'leav',\n",
       " 'remain',\n",
       " 'number',\n",
       " 'option',\n",
       " 'leav',\n",
       " 'remain',\n",
       " 'number',\n",
       " 'option',\n",
       " 'leav',\n",
       " 'number',\n",
       " 'option',\n",
       " 'leav',\n",
       " 'mani',\n",
       " 'carri',\n",
       " 'forward',\n",
       " 'leav',\n",
       " 'number',\n",
       " 'carri',\n",
       " 'forward',\n",
       " 'leav',\n",
       " 'tell',\n",
       " 'carri',\n",
       " 'forward',\n",
       " 'leav',\n",
       " 'count',\n",
       " 'number',\n",
       " 'forward',\n",
       " 'leav',\n",
       " 'number',\n",
       " 'forward',\n",
       " 'leav',\n",
       " 'number',\n",
       " 'forward',\n",
       " 'leav',\n",
       " 'mani',\n",
       " 'carri',\n",
       " 'forward',\n",
       " 'previous',\n",
       " 'year',\n",
       " 'tell',\n",
       " 'carri',\n",
       " 'forward',\n",
       " 'leav',\n",
       " 'previous',\n",
       " 'year',\n",
       " 'tell',\n",
       " 'carri',\n",
       " 'forward',\n",
       " 'leav',\n",
       " 'tell',\n",
       " 'carri',\n",
       " 'forward',\n",
       " 'leav',\n",
       " 'forward',\n",
       " 'leav',\n",
       " 'carri',\n",
       " 'forward',\n",
       " 'leav',\n",
       " 'carri',\n",
       " 'forward',\n",
       " 'previous',\n",
       " 'year',\n",
       " 'carri',\n",
       " 'forward',\n",
       " 'leav']"
      ]
     },
     "execution_count": 31,
     "metadata": {},
     "output_type": "execute_result"
    }
   ],
   "source": [
    "corpus"
   ]
  },
  {
   "cell_type": "code",
   "execution_count": 32,
   "metadata": {},
   "outputs": [
    {
     "data": {
      "text/plain": [
       "{'Greetings': 'Hello. I am Dexter. I will serve your leave enquiries.',\n",
       " 'Morning': 'Good Morning. I am Dexter. I will serve your leave enquiries.',\n",
       " 'Afternoon': 'Good afternoon. I am Dexter. I will serve your leave enquiries.',\n",
       " 'Evening': 'Good evening. I am Dexter. I will serve your leave enquiries.',\n",
       " 'Goodbye': 'Good night. Take care.',\n",
       " 'Opening': \"I'm fine! Thank you. How can I help you?\",\n",
       " 'Help': 'How can I help you?',\n",
       " 'No-Help': 'Ok sir/madam. No problem. Have a nice day.',\n",
       " 'Closing': \"It's glad to know that I have been helpful. Have a good day!\",\n",
       " 'Leaves-Type': 'Currently I know about two: annual and optional leaves.',\n",
       " 'Default-Utilized-Annual-Leaves': 'You have used 12 annual leaves.',\n",
       " 'Utilized-Annual-Leaves': 'You have taken 12 annual leaves.',\n",
       " 'Utilized-Optional-Leaves': 'You have taken 1 optional leaves.',\n",
       " 'Default-Balance-Annual-Leaves': 'You have 25 annual leaves left.',\n",
       " 'Balance-Annual-Leaves': 'You have 25 annual leaves remaining.',\n",
       " 'Balance-Optional-Leaves': 'You have 2 optional leaves remaining.',\n",
       " 'CF': 'You have 30 carry forward leaves.'}"
      ]
     },
     "execution_count": 32,
     "metadata": {},
     "output_type": "execute_result"
    }
   ],
   "source": [
    "answers"
   ]
  },
  {
   "cell_type": "markdown",
   "metadata": {},
   "source": [
    "# Train a model using these features"
   ]
  },
  {
   "cell_type": "code",
   "execution_count": 33,
   "metadata": {},
   "outputs": [],
   "source": [
    "## split data into train and test sets\n",
    "split_ratio = 0.8"
   ]
  },
  {
   "cell_type": "code",
   "execution_count": 76,
   "metadata": {},
   "outputs": [],
   "source": [
    "def split_dataset(data, split_ratio):\n",
    "    random.shuffle(data)\n",
    "    data_length = len(data)\n",
    "    train_split = int(data_length * split_ratio)\n",
    "    return (data[:train_split]), (data[train_split:])"
   ]
  },
  {
   "cell_type": "code",
   "execution_count": 77,
   "metadata": {},
   "outputs": [],
   "source": [
    "training_data, test_data = split_dataset(features_data, split_ratio)"
   ]
  },
  {
   "cell_type": "code",
   "execution_count": 78,
   "metadata": {},
   "outputs": [
    {
     "data": {
      "text/plain": [
       "[({'mani': True, 'option': True, 'leav': True}, 'Utilized-Optional-Leaves'),\n",
       " ({'remain': True, 'annual': True, 'leav': True}, 'Balance-Annual-Leaves'),\n",
       " ({'mani': True, 'type': True, 'leav': True}, 'Leaves-Type'),\n",
       " ({'number': True, 'option': True, 'leav': True, 'remain': True},\n",
       "  'Balance-Optional-Leaves'),\n",
       " ({'want': True, 'assist': True}, 'No-Help'),\n",
       " ({'option': True, 'leav': True, 'alreadi': True, 'taken': True},\n",
       "  'Utilized-Optional-Leaves'),\n",
       " ({'mani': True, 'option': True, 'leav': True}, 'Utilized-Optional-Leaves'),\n",
       " ({'good': True, 'even': True}, 'Evening'),\n",
       " ({'taken': True, 'annual': True, 'leav': True}, 'Utilized-Annual-Leaves'),\n",
       " ({'mani': True, 'annual': True, 'leav': True}, 'Utilized-Annual-Leaves'),\n",
       " ({'mani': True, 'annual': True, 'leav': True}, 'Balance-Annual-Leaves'),\n",
       " ({'number': True, 'annual': True, 'leav': True, 'remain': True},\n",
       "  'Balance-Annual-Leaves'),\n",
       " ({'option': True, 'leav': True, 'balanc': True}, 'Balance-Optional-Leaves'),\n",
       " ({'option': True, 'leav': True, 'count': True, 'use': True},\n",
       "  'Utilized-Optional-Leaves'),\n",
       " ({'number': True, 'option': True, 'leav': True, 'remain': True},\n",
       "  'Balance-Optional-Leaves'),\n",
       " ({'tell': True,\n",
       "   'carri': True,\n",
       "   'forward': True,\n",
       "   'leav': True,\n",
       "   'previous': True,\n",
       "   'year': True},\n",
       "  'CF'),\n",
       " ({'number': True, 'annual': True, 'leav': True, 'remain': True},\n",
       "  'Balance-Annual-Leaves'),\n",
       " ({'option': True, 'leav': True, 'balanc': True}, 'Balance-Optional-Leaves'),\n",
       " ({'hey': True}, 'Greetings'),\n",
       " ({'hello': True, 'hi': True}, 'Greetings'),\n",
       " ({'great': True, 'talk': True}, 'Closing'),\n",
       " ({'option': True, 'leav': True, 'count': True, 'taken': True},\n",
       "  'Utilized-Optional-Leaves'),\n",
       " ({'annual': True, 'leav': True, 'count': True, 'remain': True},\n",
       "  'Balance-Annual-Leaves'),\n",
       " ({'option': True, 'leav': True}, 'Balance-Optional-Leaves'),\n",
       " ({'forward': True, 'leav': True}, 'CF'),\n",
       " ({'option': True, 'leav': True, 'count': True, 'use': True},\n",
       "  'Utilized-Optional-Leaves'),\n",
       " ({'hey': True, 'hello': True}, 'Greetings'),\n",
       " ({'option': True, 'leav': True, 'count': True, 'use': True},\n",
       "  'Utilized-Optional-Leaves'),\n",
       " ({'hey': True}, 'Greetings'),\n",
       " ({'number': True, 'forward': True, 'leav': True}, 'CF'),\n",
       " ({'annual': True, 'leav': True, 'balanc': True}, 'Balance-Annual-Leaves'),\n",
       " ({'help': True}, 'Help'),\n",
       " ({'option': True, 'leav': True, 'remain': True}, 'Balance-Optional-Leaves'),\n",
       " ({'option': True, 'leav': True, 'taken': True}, 'Utilized-Optional-Leaves'),\n",
       " ({'annual': True, 'leav': True, 'count': True, 'remain': True},\n",
       "  'Balance-Annual-Leaves'),\n",
       " ({'option': True, 'leav': True, 'count': True, 'remain': True},\n",
       "  'Balance-Optional-Leaves'),\n",
       " ({'option': True}, 'Balance-Optional-Leaves'),\n",
       " ({'annual': True, 'leav': True, 'balanc': True}, 'Balance-Annual-Leaves'),\n",
       " ({'tell': True, 'carri': True, 'forward': True, 'leav': True, 'count': True},\n",
       "  'CF'),\n",
       " ({'option': True, 'leav': True, 'count': True, 'use': True},\n",
       "  'Utilized-Optional-Leaves'),\n",
       " ({'mani': True, 'annual': True, 'leav': True, 'alreadi': True, 'taken': True},\n",
       "  'Utilized-Annual-Leaves'),\n",
       " ({'number': True,\n",
       "   'option': True,\n",
       "   'leav': True,\n",
       "   'alreadi': True,\n",
       "   'taken': True},\n",
       "  'Utilized-Optional-Leaves'),\n",
       " ({'mani': True, 'option': True, 'leav': True, 'taken': True},\n",
       "  'Utilized-Optional-Leaves'),\n",
       " ({'annual': True, 'leav': True, 'count': True, 'remain': True},\n",
       "  'Balance-Annual-Leaves'),\n",
       " ({'tell': True, 'leav': True, 'balanc': True},\n",
       "  'Default-Balance-Annual-Leaves'),\n",
       " ({'number': True, 'option': True, 'leav': True, 'taken': True},\n",
       "  'Utilized-Optional-Leaves'),\n",
       " ({'hi': True}, 'Greetings'),\n",
       " ({'mani': True, 'option': True, 'leav': True, 'remain': True},\n",
       "  'Balance-Optional-Leaves'),\n",
       " ({'remain': True, 'leav': True}, 'Default-Balance-Annual-Leaves'),\n",
       " ({'good': True, 'night': True}, 'Goodbye'),\n",
       " ({'number': True, 'option': True, 'leav': True}, 'Utilized-Optional-Leaves'),\n",
       " ({'annual': True, 'leav': True, 'taken': True}, 'Utilized-Annual-Leaves'),\n",
       " ({'carri': True, 'forward': True, 'leav': True}, 'CF'),\n",
       " ({'mani': True, 'option': True, 'leav': True, 'taken': True},\n",
       "  'Utilized-Optional-Leaves'),\n",
       " ({'mani': True, 'leav': True}, 'Default-Balance-Annual-Leaves'),\n",
       " ({'annual': True, 'leav': True, 'count': True, 'taken': True},\n",
       "  'Utilized-Annual-Leaves'),\n",
       " ({'annual': True, 'leav': True}, 'Utilized-Annual-Leaves'),\n",
       " ({'annual': True, 'leav': True, 'count': True, 'remain': True},\n",
       "  'Balance-Annual-Leaves'),\n",
       " ({'good': True, 'morn': True}, 'Morning'),\n",
       " ({'annual': True, 'leav': True, 'count': True, 'remain': True},\n",
       "  'Balance-Annual-Leaves'),\n",
       " ({'mani': True,\n",
       "   'carri': True,\n",
       "   'forward': True,\n",
       "   'previous': True,\n",
       "   'year': True},\n",
       "  'CF'),\n",
       " ({'option': True, 'leav': True}, 'Balance-Optional-Leaves'),\n",
       " ({'annual': True, 'leav': True, 'balanc': True}, 'Balance-Annual-Leaves'),\n",
       " ({'want': True, 'help': True}, 'Help'),\n",
       " ({'number': True, 'option': True, 'leav': True, 'remain': True},\n",
       "  'Balance-Optional-Leaves'),\n",
       " ({'mani': True, 'leav': True, 'alreadi': True, 'taken': True},\n",
       "  'Default-Utilized-Annual-Leaves'),\n",
       " ({'help': True}, 'No-Help'),\n",
       " ({'mani': True, 'option': True, 'leav': True}, 'Balance-Optional-Leaves'),\n",
       " ({'annual': True, 'leav': True, 'remain': True}, 'Balance-Annual-Leaves'),\n",
       " ({'mani': True, 'leav': True, 'taken': True},\n",
       "  'Default-Utilized-Annual-Leaves'),\n",
       " ({'thank': True}, 'Closing'),\n",
       " ({'annual': True, 'leav': True}, 'Balance-Annual-Leaves'),\n",
       " ({'annual': True, 'leav': True, 'remain': True}, 'Balance-Annual-Leaves'),\n",
       " ({'annual': True, 'leav': True}, 'Balance-Annual-Leaves'),\n",
       " ({'option': True, 'leav': True}, 'Balance-Optional-Leaves'),\n",
       " ({'number': True, 'annual': True, 'leav': True}, 'Balance-Annual-Leaves'),\n",
       " ({'number': True, 'annual': True, 'leav': True}, 'Utilized-Annual-Leaves'),\n",
       " ({'hey': True, 'hi': True}, 'Greetings'),\n",
       " ({'annual': True, 'leav': True, 'taken': True}, 'Utilized-Annual-Leaves'),\n",
       " ({'number': True, 'carri': True, 'forward': True, 'leav': True}, 'CF'),\n",
       " ({'hi': True}, 'Greetings'),\n",
       " ({'carri': True, 'forward': True}, 'CF'),\n",
       " ({'type': True, 'leav': True}, 'Leaves-Type'),\n",
       " ({'mani': True, 'annual': True, 'leav': True, 'remain': True},\n",
       "  'Balance-Annual-Leaves'),\n",
       " ({'option': True, 'leav': True, 'count': True, 'remain': True},\n",
       "  'Balance-Optional-Leaves'),\n",
       " ({'number': True, 'forward': True, 'leav': True}, 'CF'),\n",
       " ({'mani': True, 'leav': True, 'remain': True},\n",
       "  'Default-Balance-Annual-Leaves'),\n",
       " ({'annual': True, 'leav': True}, 'Balance-Annual-Leaves'),\n",
       " ({'leav': True, 'type': True}, 'Leaves-Type'),\n",
       " ({'type': True}, 'Leaves-Type'),\n",
       " ({'annual': True, 'leav': True, 'alreadi': True, 'taken': True},\n",
       "  'Utilized-Annual-Leaves'),\n",
       " ({'option': True, 'leav': True, 'taken': True}, 'Utilized-Optional-Leaves'),\n",
       " ({'hi': True, 'hello': True}, 'Greetings'),\n",
       " ({'thank': True, 'much': True}, 'Closing'),\n",
       " ({'option': True, 'leav': True, 'count': True, 'remain': True},\n",
       "  'Balance-Optional-Leaves'),\n",
       " ({'leav': True}, 'Default-Balance-Annual-Leaves'),\n",
       " ({'number': True, 'forward': True, 'leav': True}, 'CF'),\n",
       " ({'great': True}, 'Closing'),\n",
       " ({'hello': True}, 'Greetings'),\n",
       " ({'remain': True, 'leav': True}, 'Default-Balance-Annual-Leaves'),\n",
       " ({'number': True, 'option': True, 'leav': True}, 'Balance-Optional-Leaves'),\n",
       " ({'mani': True, 'option': True, 'leav': True}, 'Balance-Optional-Leaves'),\n",
       " ({'mani': True, 'annual': True, 'leav': True, 'taken': True},\n",
       "  'Utilized-Annual-Leaves'),\n",
       " ({'mani': True, 'annual': True, 'leav': True, 'taken': True},\n",
       "  'Utilized-Annual-Leaves'),\n",
       " ({'number': True, 'annual': True, 'leav': True, 'taken': True},\n",
       "  'Utilized-Annual-Leaves'),\n",
       " ({'mani': True, 'leav': True, 'take': True}, 'Default-Balance-Annual-Leaves'),\n",
       " ({'number': True, 'option': True, 'leav': True}, 'Utilized-Optional-Leaves'),\n",
       " ({'previous': True,\n",
       "   'year': True,\n",
       "   'carri': True,\n",
       "   'forward': True,\n",
       "   'leav': True},\n",
       "  'CF'),\n",
       " ({'number': True, 'option': True, 'leav': True}, 'Balance-Optional-Leaves'),\n",
       " ({'need': True, 'help': True}, 'Help'),\n",
       " ({'thank': True, 'much': True}, 'Closing'),\n",
       " ({'number': True,\n",
       "   'annual': True,\n",
       "   'leav': True,\n",
       "   'alreadi': True,\n",
       "   'taken': True},\n",
       "  'Utilized-Annual-Leaves'),\n",
       " ({'leav': True, 'balanc': True}, 'Default-Balance-Annual-Leaves'),\n",
       " ({'thank': True}, 'Closing')]"
      ]
     },
     "execution_count": 78,
     "metadata": {},
     "output_type": "execute_result"
    }
   ],
   "source": [
    "training_data"
   ]
  },
  {
   "cell_type": "code",
   "execution_count": 79,
   "metadata": {},
   "outputs": [],
   "source": [
    "# save the data\n",
    "np.save('training_data', training_data)\n",
    "np.save('test_data', test_data)"
   ]
  },
  {
   "cell_type": "markdown",
   "metadata": {},
   "source": [
    "## Classification using Decision tree"
   ]
  },
  {
   "cell_type": "code",
   "execution_count": 100,
   "metadata": {},
   "outputs": [],
   "source": [
    "np_load_old = np.load\n",
    "np.load = lambda *a: np_load_old(*a, allow_pickle=True)\n",
    "training_data = np.load('training_data.npy')\n",
    "test_data = np.load('test_data.npy')"
   ]
  },
  {
   "cell_type": "code",
   "execution_count": 102,
   "metadata": {},
   "outputs": [],
   "source": [
    "def train_using_decision_tree(training_data, test_data):\n",
    "    \n",
    "    classifier = nltk.classify.DecisionTreeClassifier.train(training_data, entropy_cutoff=0.5, support_cutoff=6)\n",
    "    classifier_name = type(classifier).__name__\n",
    "    training_set_accuracy = nltk.classify.accuracy(classifier, training_data)\n",
    "    print('training set accuracy: ', training_set_accuracy)\n",
    "    test_set_accuracy = nltk.classify.accuracy(classifier, test_data)\n",
    "    print('test set accuracy: ', test_set_accuracy)\n",
    "    return classifier, classifier_name, test_set_accuracy, training_set_accuracy"
   ]
  },
  {
   "cell_type": "code",
   "execution_count": 103,
   "metadata": {},
   "outputs": [
    {
     "name": "stdout",
     "output_type": "stream",
     "text": [
      "training set accuracy:  0.9210526315789473\n",
      "test set accuracy:  0.7931034482758621\n"
     ]
    }
   ],
   "source": [
    "dtclassifier, classifier_name, test_set_accuracy, training_set_accuracy = train_using_decision_tree(training_data, test_data)"
   ]
  },
  {
   "cell_type": "markdown",
   "metadata": {},
   "source": [
    "## Classification using Naive Bayes"
   ]
  },
  {
   "cell_type": "code",
   "execution_count": 88,
   "metadata": {},
   "outputs": [],
   "source": [
    "def train_using_naive_bayes(training_data, test_data):\n",
    "    classifier = nltk.NaiveBayesClassifier.train(training_data)\n",
    "    classifier_name = type(classifier).__name__\n",
    "    training_set_accuracy = nltk.classify.accuracy(classifier, training_data)\n",
    "    test_set_accuracy = nltk.classify.accuracy(classifier, test_data)\n",
    "    return classifier, classifier_name, test_set_accuracy, training_set_accuracy"
   ]
  },
  {
   "cell_type": "code",
   "execution_count": 89,
   "metadata": {},
   "outputs": [
    {
     "name": "stdout",
     "output_type": "stream",
     "text": [
      "0.8596491228070176\n",
      "0.6551724137931034\n",
      "66\n",
      "Most Informative Features\n",
      "                    leav = None           Greeti : Balanc =     12.0 : 1.0\n",
      "                    mani = True           Defaul : Balanc =      6.7 : 1.0\n",
      "                   taken = None           Balanc : Utiliz =      3.9 : 1.0\n",
      "                 alreadi = True           Defaul : Utiliz =      3.4 : 1.0\n",
      "                   count = True           Utiliz : Utiliz =      3.0 : 1.0\n",
      "                   thank = None           Balanc : Closin =      2.7 : 1.0\n",
      "                   carri = None           Balanc : CF     =      2.6 : 1.0\n",
      "                  remain = None           Utiliz : Balanc =      2.3 : 1.0\n",
      "                      hi = None           Balanc : Greeti =      2.2 : 1.0\n",
      "                  number = True               CF : Balanc =      2.1 : 1.0\n"
     ]
    }
   ],
   "source": [
    "classifier, classifier_name, test_set_accuracy, training_set_accuracy = train_using_naive_bayes(training_data, test_data)\n",
    "print(training_set_accuracy)\n",
    "print(test_set_accuracy)\n",
    "print(len(classifier.most_informative_features()))\n",
    "classifier.show_most_informative_features()"
   ]
  },
  {
   "cell_type": "markdown",
   "metadata": {},
   "source": [
    "## Test on Navie Bayes Classifier"
   ]
  },
  {
   "cell_type": "code",
   "execution_count": 90,
   "metadata": {},
   "outputs": [
    {
     "data": {
      "text/plain": [
       "'Utilized-Optional-Leaves'"
      ]
     },
     "execution_count": 90,
     "metadata": {},
     "output_type": "execute_result"
    }
   ],
   "source": [
    "classifier.classify(({'mani': True, 'option': True, 'leav': True}))"
   ]
  },
  {
   "cell_type": "code",
   "execution_count": 91,
   "metadata": {},
   "outputs": [
    {
     "data": {
      "text/plain": [
       "['hello']"
      ]
     },
     "execution_count": 91,
     "metadata": {},
     "output_type": "execute_result"
    }
   ],
   "source": [
    "extract_feature(\"hello\")"
   ]
  },
  {
   "cell_type": "code",
   "execution_count": 92,
   "metadata": {},
   "outputs": [
    {
     "data": {
      "text/plain": [
       "{'hello': True}"
      ]
     },
     "execution_count": 92,
     "metadata": {},
     "output_type": "execute_result"
    }
   ],
   "source": [
    "word_feats(extract_feature(\"hello\"))"
   ]
  },
  {
   "cell_type": "code",
   "execution_count": 93,
   "metadata": {},
   "outputs": [
    {
     "data": {
      "text/plain": [
       "'Utilized-Optional-Leaves'"
      ]
     },
     "execution_count": 93,
     "metadata": {},
     "output_type": "execute_result"
    }
   ],
   "source": [
    "input_sentence = \"how many balanced leaves do I have?\"\n",
    "classifier.classify(word_feats(extract_feature(input_sentence)))"
   ]
  },
  {
   "cell_type": "markdown",
   "metadata": {},
   "source": [
    "## Test on Decision Tree Classifier"
   ]
  },
  {
   "cell_type": "code",
   "execution_count": 94,
   "metadata": {},
   "outputs": [],
   "source": [
    "def reply(input_sentence):\n",
    "    category = dtclassifier.classify(word_feats(extract_feature(input_sentence)))\n",
    "    return answers[category]"
   ]
  },
  {
   "cell_type": "code",
   "execution_count": 95,
   "metadata": {},
   "outputs": [
    {
     "data": {
      "text/plain": [
       "'Hello. I am Dexter. I will serve your leave enquiries.'"
      ]
     },
     "execution_count": 95,
     "metadata": {},
     "output_type": "execute_result"
    }
   ],
   "source": [
    "reply('Hi')"
   ]
  },
  {
   "cell_type": "code",
   "execution_count": 96,
   "metadata": {},
   "outputs": [
    {
     "data": {
      "text/plain": [
       "'You have 25 annual leaves remaining.'"
      ]
     },
     "execution_count": 96,
     "metadata": {},
     "output_type": "execute_result"
    }
   ],
   "source": [
    "reply('How many annual leaves do I have left?')"
   ]
  },
  {
   "cell_type": "code",
   "execution_count": 97,
   "metadata": {},
   "outputs": [
    {
     "data": {
      "text/plain": [
       "'You have 2 optional leaves remaining.'"
      ]
     },
     "execution_count": 97,
     "metadata": {},
     "output_type": "execute_result"
    }
   ],
   "source": [
    "reply('How optional leave left?')"
   ]
  },
  {
   "cell_type": "code",
   "execution_count": 98,
   "metadata": {},
   "outputs": [
    {
     "data": {
      "text/plain": [
       "'You have used 12 annual leaves.'"
      ]
     },
     "execution_count": 98,
     "metadata": {},
     "output_type": "execute_result"
    }
   ],
   "source": [
    "reply('How many leaves I have taken?')"
   ]
  },
  {
   "cell_type": "code",
   "execution_count": 99,
   "metadata": {},
   "outputs": [
    {
     "data": {
      "text/plain": [
       "\"It's glad to know that I have been helpful. Have a good day!\""
      ]
     },
     "execution_count": 99,
     "metadata": {},
     "output_type": "execute_result"
    }
   ],
   "source": [
    "reply('Thanks!')"
   ]
  }
 ],
 "metadata": {
  "kernelspec": {
   "display_name": "Python 3",
   "language": "python",
   "name": "python3"
  },
  "language_info": {
   "codemirror_mode": {
    "name": "ipython",
    "version": 3
   },
   "file_extension": ".py",
   "mimetype": "text/x-python",
   "name": "python",
   "nbconvert_exporter": "python",
   "pygments_lexer": "ipython3",
   "version": "3.9.1"
  },
  "vscode": {
   "interpreter": {
    "hash": "09000abc2003585850f2b51a15cfa8f24f29975a229f8a88775501396a8db5f5"
   }
  }
 },
 "nbformat": 4,
 "nbformat_minor": 1
}
